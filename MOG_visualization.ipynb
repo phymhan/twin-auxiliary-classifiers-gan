{
 "cells": [
  {
   "cell_type": "markdown",
   "metadata": {},
   "source": [
    "# This is the demo of TAC-GAN on MOG (mixture of gaussian) "
   ]
  },
  {
   "cell_type": "markdown",
   "metadata": {},
   "source": [
    "Load the needed package"
   ]
  },
  {
   "cell_type": "markdown",
   "metadata": {},
   "source": [
    "# Import and libraries"
   ]
  },
  {
   "cell_type": "code",
   "execution_count": 1,
   "metadata": {},
   "outputs": [],
   "source": [
    "%matplotlib inline\n",
    "import os\n",
    "import torch\n",
    "import torch.nn as nn\n",
    "import numpy as np\n",
    "import torch.optim as optim\n",
    "import torch.nn.functional as F\n",
    "import matplotlib\n",
    "import matplotlib.pyplot as plt\n",
    "import pandas as pd\n",
    "from mmd_metric import polynomial_mmd"
   ]
  },
  {
   "cell_type": "markdown",
   "metadata": {},
   "source": [
    "# Classes for cGAN"
   ]
  },
  {
   "cell_type": "code",
   "execution_count": 2,
   "metadata": {},
   "outputs": [],
   "source": [
    "#######G network\n",
    "\n",
    "class G_guassian(nn.Module):\n",
    "\n",
    "    def __init__(self, nz,num_classes=2):\n",
    "        super(G_guassian, self).__init__()\n",
    "\n",
    "\n",
    "        self.embed = nn.Embedding(num_embeddings=num_classes, embedding_dim=nz)\n",
    "\n",
    "        self.decode = nn.Sequential(\n",
    "\n",
    "            nn.Linear(nz*2,10),\n",
    "            nn.Tanh(),\n",
    "            nn.Linear(10, 10),\n",
    "            nn.Tanh(),\n",
    "            nn.Linear(10, 10),\n",
    "            # nn.Tanh(),\n",
    "            nn.Linear(10, 1),\n",
    "        )\n",
    "\n",
    "        self.__initialize_weights()\n",
    "\n",
    "    def forward(self, z, label, output=None):\n",
    "\n",
    "        input = torch.cat([z,self.embed(label)],dim=1)\n",
    "        x = input.view(input.size(0), -1)\n",
    "        output = self.decode(x)\n",
    "\n",
    "        return output\n",
    "\n",
    "    def __initialize_weights(self):\n",
    "        for m in self.modules():\n",
    "            if isinstance(m, nn.Conv2d):\n",
    "                m.weight.data.normal_(0.0, 0.02)\n",
    "            elif isinstance(m, nn.BatchNorm2d):\n",
    "                m.weight.data.normal_(1.0, 0.02)\n",
    "                m.bias.data.fill_(0)\n",
    "                \n",
    "\n",
    "#####D network\n",
    "class D_guassian(nn.Module):\n",
    "\n",
    "    def __init__(self, num_classes=10,AC=True):\n",
    "        super(D_guassian, self).__init__()\n",
    "\n",
    "        self.AC = AC\n",
    "\n",
    "        self.encode = nn.Sequential(\n",
    "\n",
    "            nn.Linear(1, 10),\n",
    "            nn.Tanh(),\n",
    "            nn.Linear(10, 10),\n",
    "            nn.Tanh(),\n",
    "            nn.Linear(10, 10),\n",
    "            # nn.Tanh(),\n",
    "        )\n",
    "        self.gan_linear = nn.Linear(10, 1)\n",
    "        self.aux_linear = nn.Linear(10, num_classes)\n",
    "        self.mi_linear = nn.Linear(10, num_classes)\n",
    "\n",
    "        if not self.AC:\n",
    "            self.projection = nn.Embedding(num_embeddings=num_classes,embedding_dim=10)\n",
    "\n",
    "        self.sigmoid = nn.Sigmoid()\n",
    "        self.__initialize_weights()\n",
    "\n",
    "    def forward(self, input,y=None):\n",
    "\n",
    "        x = self.encode(input)\n",
    "        x = x.view(-1, 10)\n",
    "        c = self.aux_linear(x)\n",
    "        mi = self.mi_linear(x)\n",
    "\n",
    "        s = self.gan_linear(x)\n",
    "        if not self.AC:\n",
    "            s += (self.projection(y)*x).sum(dim=1,keepdim=True)\n",
    "        s = self.sigmoid(s)\n",
    "        return s.squeeze(1), c.squeeze(1), mi.squeeze(1)\n",
    "\n",
    "    def __initialize_weights(self):\n",
    "        for m in self.modules():\n",
    "            if isinstance(m, nn.Conv2d):\n",
    "                m.weight.data.normal_(0.0, 0.02)\n",
    "            elif isinstance(m, nn.BatchNorm2d):\n",
    "                m.weight.data.normal_(1.0, 0.02)\n",
    "                m.bias.data.fill_(0)"
   ]
  },
  {
   "cell_type": "markdown",
   "metadata": {},
   "source": [
    "# Helper functions to plot the results"
   ]
  },
  {
   "cell_type": "code",
   "execution_count": 4,
   "metadata": {},
   "outputs": [],
   "source": [
    "def plot_density(flights,binwidth=0.1):\n",
    "    ax = plt.subplot(1,1,1)\n",
    "\n",
    "    # Draw the plot\n",
    "    ax.hist(flights, bins=int(180 / binwidth),\n",
    "            color='blue', edgecolor='black')\n",
    "\n",
    "    # Title and labels\n",
    "    ax.set_title('Histogram with Binwidth = %d' % binwidth, size=30)\n",
    "    ax.set_xlabel('Delay (min)', size=22)\n",
    "    ax.set_ylabel('Flights', size=22)\n",
    "\n",
    "    plt.tight_layout()\n",
    "    plt.show()"
   ]
  },
  {
   "cell_type": "markdown",
   "metadata": {},
   "source": [
    "# Runner"
   ]
  },
  {
   "cell_type": "code",
   "execution_count": 3,
   "metadata": {},
   "outputs": [],
   "source": [
    "####TAC-GAN: set AC=True, MI=True, AC-GAN:set AC=True, MI=False, Projection-GAN: set AC=False, MI=False\n",
    "def train(data1,data2,data3,nz,G,D,optd,optg,AC=True,MI=True):\n",
    "    for _ in range(20):\n",
    "        for i in range(1000):\n",
    "\n",
    "            #####D step\n",
    "            for _ in range(1):\n",
    "                data = torch.cat(\n",
    "                    [data1[128 * i:128 * i + 128], data2[128 * i:128 * i + 128], data3[128 * i:128 * i + 128]],\n",
    "                    dim=0).unsqueeze(dim=1)\n",
    "                label = torch.cat([torch.ones(128).cuda().long()*0, torch.ones(128).cuda().long()*1, torch.ones(128).cuda().long()*2],dim=0)\n",
    "\n",
    "                ###D\n",
    "                d_real, c, _ = D(data)\n",
    "\n",
    "                z = torch.randn(256, nz).cuda()\n",
    "                fake_label = torch.LongTensor(256).random_(3).cuda()\n",
    "                fake_data = G(z, label=fake_label)\n",
    "                d_fake, _, mi = D(fake_data)\n",
    "\n",
    "\n",
    "                D_loss = F.binary_cross_entropy(d_real, torch.ones(384).cuda()) \\\n",
    "                         + F.binary_cross_entropy(d_fake, torch.zeros(256).cuda())\n",
    "                if AC:\n",
    "                    D_loss += F.cross_entropy(c, label)\n",
    "                if MI:\n",
    "                    D_loss += F.cross_entropy(mi, fake_label)\n",
    "\n",
    "                optd.zero_grad()\n",
    "                D_loss.backward()\n",
    "                optd.step()\n",
    "\n",
    "            #####G step\n",
    "            if i % 10 == 0:\n",
    "                z = torch.randn(256, nz).cuda()\n",
    "                fake_label = torch.LongTensor(256).random_(3).cuda()\n",
    "                fake_data = G(z, label=fake_label)\n",
    "                d_fake, c, mi = D(fake_data)\n",
    "\n",
    "                G_loss = F.binary_cross_entropy(d_fake, torch.ones(256).cuda())\n",
    "\n",
    "                if AC:\n",
    "                    G_loss += F.cross_entropy(c,fake_label)\n",
    "                if MI:\n",
    "                    G_loss -= F.cross_entropy(mi, fake_label)\n",
    "\n",
    "                optg.zero_grad()\n",
    "                G_loss.backward()\n",
    "                optg.step()"
   ]
  },
  {
   "cell_type": "markdown",
   "metadata": {},
   "source": [
    "# Visualize and evaluation"
   ]
  },
  {
   "cell_type": "markdown",
   "metadata": {},
   "source": [
    "Running the 1-D MOG toy experiments of different distance between different gaussian components. Cost about 10 min in 1080ti"
   ]
  },
  {
   "cell_type": "code",
   "execution_count": 12,
   "metadata": {},
   "outputs": [
    {
     "data": {
      "image/png": "[encoded data removed]",
      "text/plain": [
       "<Figure size 432x288 with 1 Axes>"
      ]
     },
     "metadata": {
      "needs_background": "light"
     },
     "output_type": "display_data"
    }
   ],
   "source": [
    "\n",
    "######create folder to save the result\n",
    "distance = 3\n",
    "if os.path.exists(os.path.join('MOG','1D', str(distance) + '_1D')):\n",
    "    pass\n",
    "else:\n",
    "    os.makedirs(os.path.join('MOG','1D', str(distance) + '_1D'))\n",
    "save_path = os.path.join('MOG','1D', str(distance) + '_1D')\n",
    "\n",
    "######Generate MOG data of different mean and variance\n",
    "data1 = torch.randn(128000).cuda()\n",
    "data2 = torch.randn(128000).cuda() * 2 + distance\n",
    "data3 = torch.randn(128000).cuda() * 3 + distance * 2\n",
    "\n",
    "df1 = pd.DataFrame()\n",
    "df2 = pd.DataFrame()\n",
    "\n",
    "df1['score_{0}'.format(0)] = data1.cpu().numpy()\n",
    "df1['score_{0}'.format(1)] = data2.cpu().numpy()\n",
    "df1['score_{0}'.format(2)] = data3.cpu().numpy()\n",
    "r_data = torch.cat([data1, data2, data3], dim=0).cpu().numpy()\n",
    "df2['score_{0}'.format(2)] = r_data\n",
    "np.save(save_path+'/o_data',r_data)\n",
    "\n",
    "######Plot the distribution of original data\n",
    "fig, ax = plt.subplots(1, 1)\n",
    "for s in df1.columns:\n",
    "    df1[s].plot(kind='kde')\n",
    "\n",
    "for s in df2.columns:\n",
    "    df2[s].plot(style='--',kind='kde')\n",
    "plt.xlim((-4, 9 + distance * 2))\n",
    "ax.legend([\"Class_0\", \"Class_1\",\"Class_2\",\"Marginal\"])\n",
    "plt.title('Original')\n",
    "fig.savefig(save_path + '/original.eps')"
   ]
  },
  {
   "cell_type": "markdown",
   "metadata": {},
   "source": [
    "# Build Network"
   ]
  },
  {
   "cell_type": "code",
   "execution_count": 13,
   "metadata": {},
   "outputs": [],
   "source": [
    "####TAC-GAN: set AC=True, MI=True, AC-GAN:set AC=True, MI=False, Projection-GAN: set AC=False, MI=False\n",
    "##Default TAC-GAN\n",
    "AC = True\n",
    "MI = True\n",
    "if AC:\n",
    "    if MI:\n",
    "        name = 'TAC'\n",
    "    else:\n",
    "        name = 'AC'\n",
    "else:\n",
    "    name = 'Projection'\n",
    "            \n",
    "        \n",
    "#####Bulding network\n",
    "nz = 2\n",
    "G = G_guassian(nz=nz, num_classes=3).cuda()\n",
    "\n",
    "D = D_guassian(num_classes=3,AC=AC).cuda()\n",
    "\n",
    "optg = optim.Adam(G.parameters(), lr=0.002,\n",
    "                      betas=(0.5, 0.999))\n",
    "optd = optim.Adam(D.parameters(), lr=0.002,\n",
    "                      betas=(0.5, 0.999))"
   ]
  },
  {
   "cell_type": "code",
   "execution_count": 4,
   "metadata": {},
   "outputs": [
    {
     "ename": "NameError",
     "evalue": "name 'data1' is not defined",
     "output_type": "error",
     "traceback": [
      "\u001b[0;31m---------------------------------------------------------------------------\u001b[0m",
      "\u001b[0;31mNameError\u001b[0m                                 Traceback (most recent call last)",
      "\u001b[0;32m<ipython-input-4-5a3b3851f74c>\u001b[0m in \u001b[0;36m<module>\u001b[0;34m\u001b[0m\n\u001b[1;32m      1\u001b[0m \u001b[0;31m#####Train network\u001b[0m\u001b[0;34m\u001b[0m\u001b[0;34m\u001b[0m\u001b[0;34m\u001b[0m\u001b[0m\n\u001b[0;32m----> 2\u001b[0;31m \u001b[0mtrain\u001b[0m\u001b[0;34m(\u001b[0m\u001b[0mdata1\u001b[0m\u001b[0;34m,\u001b[0m\u001b[0mdata2\u001b[0m\u001b[0;34m,\u001b[0m\u001b[0mdata3\u001b[0m\u001b[0;34m,\u001b[0m\u001b[0mnz\u001b[0m\u001b[0;34m,\u001b[0m\u001b[0mG\u001b[0m\u001b[0;34m,\u001b[0m\u001b[0mD\u001b[0m\u001b[0;34m,\u001b[0m\u001b[0moptd\u001b[0m\u001b[0;34m,\u001b[0m\u001b[0moptg\u001b[0m\u001b[0;34m,\u001b[0m\u001b[0mAC\u001b[0m\u001b[0;34m=\u001b[0m\u001b[0mAC\u001b[0m\u001b[0;34m,\u001b[0m\u001b[0mMI\u001b[0m\u001b[0;34m=\u001b[0m\u001b[0mMI\u001b[0m\u001b[0;34m)\u001b[0m\u001b[0;34m\u001b[0m\u001b[0;34m\u001b[0m\u001b[0m\n\u001b[0m\u001b[1;32m      3\u001b[0m \u001b[0mprint\u001b[0m\u001b[0;34m(\u001b[0m\u001b[0;34m'Training finished'\u001b[0m\u001b[0;34m)\u001b[0m\u001b[0;34m\u001b[0m\u001b[0;34m\u001b[0m\u001b[0m\n\u001b[1;32m      4\u001b[0m \u001b[0;34m\u001b[0m\u001b[0m\n\u001b[1;32m      5\u001b[0m \u001b[0;31m#####Sample data from Generator\u001b[0m\u001b[0;34m\u001b[0m\u001b[0;34m\u001b[0m\u001b[0;34m\u001b[0m\u001b[0m\n",
      "\u001b[0;31mNameError\u001b[0m: name 'data1' is not defined"
     ]
    }
   ],
   "source": [
    "#####Train network\n",
    "train(data1,data2,data3,nz,G,D,optd,optg,AC=AC,MI=MI)\n",
    "print('Training finished')\n",
    "\n",
    "#####Sample data from Generator\n",
    "z = torch.randn(10000, nz).cuda()\n",
    "label = torch.zeros(10000).long().cuda()  # torch.LongTensor(10000).random_(2).cuda()#\n",
    "data1_g = G(z=z, label=label).squeeze().cpu().detach()\n",
    "\n",
    "z = torch.randn(10000, nz).cuda()\n",
    "label = torch.ones(10000).long().cuda()  # torch.LongTensor(10000).random_(2).cuda()#\n",
    "data2_g = G(z=z, label=label).squeeze().cpu().detach()\n",
    "\n",
    "z = torch.randn(10000, nz).cuda()\n",
    "label = torch.ones(10000).long().cuda() + 1  # torch.LongTensor(10000).random_(2).cuda()#\n",
    "data3_g = G(z=z, label=label).squeeze().cpu().detach()\n",
    "\n",
    "df1 = pd.DataFrame()\n",
    "df2 = pd.DataFrame()\n",
    "\n",
    "df1['score_{0}'.format(0)] = data1_g.numpy()\n",
    "df1['score_{0}'.format(1)] = data2_g.numpy()\n",
    "df1['score_{0}'.format(2)] = data3_g.numpy()\n",
    "g_data = torch.cat([data1_g, data2_g, data3_g], dim=0).numpy()\n",
    "df2['score_{0}'.format(2)] = g_data\n",
    "\n",
    "#####Plot generated conditional distribution\n",
    "fig, ax = plt.subplots(1, 1)\n",
    "for s in df1.columns:\n",
    "    df1[s].plot(kind='kde')\n",
    "\n",
    "for s in df2.columns:\n",
    "    df2[s].plot(style='--',kind='kde')\n",
    "\n",
    "plt.xlim((-4, 9 + distance * 2))\n",
    "ax.legend([\"Class_0\", \"Class_1\", \"Class_2\", \"Marginal\"])\n",
    "plt.title(name)\n",
    "fig.savefig(save_path + '/'+name+'.eps')"
   ]
  },
  {
   "cell_type": "markdown",
   "metadata": {},
   "source": [
    "# Evaluate the MMD distance between true data and generated data"
   ]
  },
  {
   "cell_type": "code",
   "execution_count": 15,
   "metadata": {},
   "outputs": [
    {
     "name": "stdout",
     "output_type": "stream",
     "text": [
      "the distance of class 0 is :  0.008205491237123663\n",
      "the distance of class 1 is :  1.5177659917671917\n",
      "the distance of class 2 is :  0.781029228938678\n",
      "the distance of marginal is :  -0.11618767918389494\n"
     ]
    }
   ],
   "source": [
    "\n",
    "mean0_0,var0_0 = polynomial_mmd(np.expand_dims(data1_g.numpy(), axis=1), np.expand_dims(data1.cpu().numpy(),axis=1))\n",
    "mean0_1, var0_1 = polynomial_mmd(np.expand_dims(data2_g.numpy(), axis=1),\n",
    "                                     np.expand_dims(data2.cpu().numpy(), axis=1))\n",
    "mean0_2, var0_2 = polynomial_mmd(np.expand_dims(data3_g.numpy(), axis=1),\n",
    "                                     np.expand_dims(data3.cpu().numpy(), axis=1))\n",
    "mean0, var0 = polynomial_mmd(np.expand_dims(g_data, axis=1), np.expand_dims(r_data, axis=1))\n",
    "print('the distance of class 0 is : ', mean0_0)\n",
    "print('the distance of class 1 is : ', mean0_1)\n",
    "print('the distance of class 2 is : ', mean0_2)\n",
    "print('the distance of marginal is : ', mean0)"
   ]
  },
  {
   "cell_type": "code",
   "execution_count": null,
   "metadata": {},
   "outputs": [],
   "source": []
  }
 ],
 "metadata": {
  "kernelspec": {
   "display_name": "Python 3",
   "language": "python",
   "name": "python3"
  },
  "language_info": {
   "codemirror_mode": {
    "name": "ipython",
    "version": 3
   },
   "file_extension": ".py",
   "mimetype": "text/x-python",
   "name": "python",
   "nbconvert_exporter": "python",
   "pygments_lexer": "ipython3",
   "version": "3.7.4"
  }
 },
 "nbformat": 4,
 "nbformat_minor": 2
}
