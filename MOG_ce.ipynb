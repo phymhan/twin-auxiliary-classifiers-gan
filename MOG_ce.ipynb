{
 "cells": [
  {
   "cell_type": "markdown",
   "metadata": {},
   "source": [
    "# This is the demo of TAC-GAN on MOG (mixture of gaussian) "
   ]
  },
  {
   "cell_type": "markdown",
   "metadata": {},
   "source": [
    "Load the needed package"
   ]
  },
  {
   "cell_type": "markdown",
   "metadata": {},
   "source": [
    "# Import and libraries"
   ]
  },
  {
   "cell_type": "code",
   "execution_count": 1,
   "metadata": {},
   "outputs": [],
   "source": [
    "%matplotlib inline\n",
    "import os\n",
    "import torch\n",
    "import torch.nn as nn\n",
    "import numpy as np\n",
    "import torch.optim as optim\n",
    "import torch.nn.functional as F\n",
    "import matplotlib\n",
    "import matplotlib.pyplot as plt\n",
    "import pandas as pd\n",
    "from mmd_metric import polynomial_mmd\n",
    "import pdb"
   ]
  },
  {
   "cell_type": "markdown",
   "metadata": {},
   "source": [
    "# Classes for cGAN"
   ]
  },
  {
   "cell_type": "code",
   "execution_count": 2,
   "metadata": {},
   "outputs": [],
   "source": [
    "#######G network\n",
    "\n",
    "#####D network\n",
    "class D_guassian(nn.Module):\n",
    "\n",
    "    def __init__(self, num_classes=10,AC=True):\n",
    "        super(D_guassian, self).__init__()\n",
    "\n",
    "        self.AC = AC\n",
    "\n",
    "        self.encode = nn.Sequential(\n",
    "\n",
    "            nn.Linear(1, 10),\n",
    "            nn.Tanh(),\n",
    "            nn.Linear(10, 10),\n",
    "            nn.Tanh(),\n",
    "            nn.Linear(10, 10),\n",
    "            # nn.Tanh(),\n",
    "        )\n",
    "        self.gan_linear = nn.Linear(10, 1)\n",
    "        self.aux_linear = nn.Linear(10, num_classes)\n",
    "        self.mi_linear = nn.Linear(10, num_classes)\n",
    "\n",
    "        if not self.AC:\n",
    "            self.projection = nn.Embedding(num_embeddings=num_classes,embedding_dim=10)\n",
    "\n",
    "        self.sigmoid = nn.Sigmoid()\n",
    "        self.__initialize_weights()\n",
    "\n",
    "    def forward(self, input,y=None):\n",
    "\n",
    "        x = self.encode(input)\n",
    "        x = x.view(-1, 10)\n",
    "        c = self.aux_linear(x)\n",
    "        mi = self.mi_linear(x)\n",
    "\n",
    "        s = self.gan_linear(x)\n",
    "        if not self.AC:\n",
    "            s += (self.projection(y)*x).sum(dim=1,keepdim=True)\n",
    "        s = self.sigmoid(s)\n",
    "        return s.squeeze(1), c.squeeze(1), mi.squeeze(1)\n",
    "\n",
    "    def __initialize_weights(self):\n",
    "        for m in self.modules():\n",
    "            if isinstance(m, nn.Conv2d):\n",
    "                m.weight.data.normal_(0.0, 0.02)\n",
    "            elif isinstance(m, nn.BatchNorm2d):\n",
    "                m.weight.data.normal_(1.0, 0.02)\n",
    "                m.bias.data.fill_(0)"
   ]
  },
  {
   "cell_type": "markdown",
   "metadata": {},
   "source": [
    "# Helper functions to plot the results"
   ]
  },
  {
   "cell_type": "code",
   "execution_count": 3,
   "metadata": {},
   "outputs": [],
   "source": [
    "def plot_density(flights,binwidth=0.1):\n",
    "    ax = plt.subplot(1,1,1)\n",
    "\n",
    "    # Draw the plot\n",
    "    ax.hist(flights, bins=int(180 / binwidth),\n",
    "            color='blue', edgecolor='black')\n",
    "\n",
    "    # Title and labels\n",
    "    ax.set_title('Histogram with Binwidth = %d' % binwidth, size=30)\n",
    "    ax.set_xlabel('Delay (min)', size=22)\n",
    "    ax.set_ylabel('Flights', size=22)\n",
    "\n",
    "    plt.tight_layout()\n",
    "    plt.show()"
   ]
  },
  {
   "cell_type": "markdown",
   "metadata": {},
   "source": [
    "# Runner"
   ]
  },
  {
   "cell_type": "code",
   "execution_count": 41,
   "metadata": {},
   "outputs": [],
   "source": [
    "####TAC-GAN: set AC=True, MI=True, AC-GAN:set AC=True, MI=False, Projection-GAN: set AC=False, MI=False\n",
    "def train(data1, data2, data3, nz, D, optd, bs=None):\n",
    "    bs = [128, 128, 128] if bs is None else bs\n",
    "    for _ in range(50):\n",
    "        for i in range(1000):\n",
    "            data = torch.cat(\n",
    "                [data1[bs[0] * i:bs[0] * i + bs[0]], data2[bs[1] * i:bs[1] * i + bs[1]], data3[bs[2] * i:bs[2] * i + bs[2]]],\n",
    "                dim=0).unsqueeze(dim=1)\n",
    "            label = torch.cat([torch.ones(bs[0]).cuda().long()*0, torch.ones(bs[1]).cuda().long()*1, torch.ones(bs[2]).cuda().long()*2],dim=0)\n",
    "            idx = torch.randperm(sum(bs))\n",
    "            data = data[idx, ...]\n",
    "            label = label[idx, ...]\n",
    "            ###D\n",
    "            d_real, c, _ = D(data)\n",
    "\n",
    "            D_loss = F.cross_entropy(c, label)\n",
    "\n",
    "            optd.zero_grad()\n",
    "            D_loss.backward()\n",
    "            optd.step()\n"
   ]
  },
  {
   "cell_type": "markdown",
   "metadata": {},
   "source": [
    "# Visualize and evaluation"
   ]
  },
  {
   "cell_type": "markdown",
   "metadata": {},
   "source": [
    "Running the 1-D MOG toy experiments of different distance between different gaussian components. Cost about 10 min in 1080ti"
   ]
  },
  {
   "cell_type": "code",
   "execution_count": 5,
   "metadata": {},
   "outputs": [
    {
     "name": "stderr",
     "output_type": "stream",
     "text": [
      "The PostScript backend does not support transparency; partially transparent artists will be rendered opaque.\n",
      "The PostScript backend does not support transparency; partially transparent artists will be rendered opaque.\n"
     ]
    },
    {
     "data": {
      "image/png": "[encoded data removed]",
      "text/plain": [
       "<Figure size 432x288 with 1 Axes>"
      ]
     },
     "metadata": {
      "needs_background": "light"
     },
     "output_type": "display_data"
    }
   ],
   "source": [
    "\n",
    "######create folder to save the result\n",
    "distance = 3\n",
    "if os.path.exists(os.path.join('MOG','1D', str(distance) + '_1D')):\n",
    "    pass\n",
    "else:\n",
    "    os.makedirs(os.path.join('MOG','1D', str(distance) + '_1D'))\n",
    "save_path = os.path.join('MOG','1D', str(distance) + '_1D')\n",
    "\n",
    "######Generate MOG data of different mean and variance\n",
    "data1 = torch.randn(128000).cuda()\n",
    "data2 = torch.randn(128000).cuda() * 2 + distance\n",
    "data3 = torch.randn(128000).cuda() * 3 + distance * 2\n",
    "\n",
    "df1 = pd.DataFrame()\n",
    "df2 = pd.DataFrame()\n",
    "\n",
    "df1['score_{0}'.format(0)] = data1.cpu().numpy()\n",
    "df1['score_{0}'.format(1)] = data2.cpu().numpy()\n",
    "df1['score_{0}'.format(2)] = data3.cpu().numpy()\n",
    "r_data = torch.cat([data1, data2, data3], dim=0).cpu().numpy()\n",
    "df2['score_{0}'.format(2)] = r_data\n",
    "np.save(save_path+'/o_data',r_data)\n",
    "\n",
    "######Plot the distribution of original data\n",
    "fig, ax = plt.subplots(1, 1)\n",
    "for s in df1.columns:\n",
    "    df1[s].plot(kind='kde')\n",
    "\n",
    "for s in df2.columns:\n",
    "    df2[s].plot(style='--',kind='kde')\n",
    "plt.xlim((-4, 9 + distance * 2))\n",
    "ax.legend([\"Class_0\", \"Class_1\",\"Class_2\",\"Marginal\"])\n",
    "plt.title('Original')\n",
    "fig.savefig(save_path + '/original.eps')"
   ]
  },
  {
   "cell_type": "markdown",
   "metadata": {},
   "source": [
    "# Build Network"
   ]
  },
  {
   "cell_type": "code",
   "execution_count": 15,
   "metadata": {},
   "outputs": [],
   "source": [
    "####TAC-GAN: set AC=True, MI=True, AC-GAN:set AC=True, MI=False, Projection-GAN: set AC=False, MI=False\n",
    "##Default TAC-GAN\n",
    "AC = True\n",
    "\n",
    "#####Bulding network\n",
    "nz = 2\n",
    "\n",
    "D = D_guassian(num_classes=3, AC=AC).cuda()\n",
    "\n",
    "optd = optim.Adam(D.parameters(), lr=0.002,\n",
    "                      betas=(0.5, 0.999))"
   ]
  },
  {
   "cell_type": "code",
   "execution_count": 44,
   "metadata": {},
   "outputs": [
    {
     "name": "stdout",
     "output_type": "stream",
     "text": [
      "Training finished\n"
     ]
    }
   ],
   "source": [
    "#####Train network\n",
    "train(data1, data2, data3, nz, D, optd, [4, 4, 128])\n",
    "print('Training finished')"
   ]
  },
  {
   "cell_type": "code",
   "execution_count": 45,
   "metadata": {},
   "outputs": [],
   "source": [
    "#####Save Q(y|x) predictions\n",
    "c_ = []\n",
    "x_ = []\n",
    "for i in range(1000):\n",
    "    data = torch.cat(\n",
    "        [data1[128 * i:128 * i + 128], data2[128 * i:128 * i + 128], data3[128 * i:128 * i + 128]],\n",
    "        dim=0).unsqueeze(dim=1)\n",
    "    label = torch.cat([torch.ones(128).cuda().long()*0, torch.ones(128).cuda().long()*1, torch.ones(128).cuda().long()*2], dim=0)\n",
    "    _, c, _ = D(data)\n",
    "    c_.append(c.detach())\n",
    "    x_.append(data)\n",
    "c = torch.cat(c_)\n",
    "c_numpy = c.cpu().numpy()\n",
    "x = torch.cat(x_)\n",
    "x_numpy = x.cpu().numpy()\n",
    "np.save('logits_2.npy', c_numpy)\n",
    "np.save('inputs_2.npy', x_numpy)"
   ]
  },
  {
   "cell_type": "markdown",
   "metadata": {},
   "source": [
    "# Evaluate the MMD distance between true data and generated data"
   ]
  },
  {
   "cell_type": "code",
   "execution_count": 15,
   "metadata": {},
   "outputs": [
    {
     "name": "stdout",
     "output_type": "stream",
     "text": [
      "the distance of class 0 is :  0.008205491237123663\n",
      "the distance of class 1 is :  1.5177659917671917\n",
      "the distance of class 2 is :  0.781029228938678\n",
      "the distance of marginal is :  -0.11618767918389494\n"
     ]
    }
   ],
   "source": []
  },
  {
   "cell_type": "code",
   "execution_count": null,
   "metadata": {},
   "outputs": [],
   "source": []
  }
 ],
 "metadata": {
  "kernelspec": {
   "display_name": "Python 3",
   "language": "python",
   "name": "python3"
  },
  "language_info": {
   "codemirror_mode": {
    "name": "ipython",
    "version": 3
   },
   "file_extension": ".py",
   "mimetype": "text/x-python",
   "name": "python",
   "nbconvert_exporter": "python",
   "pygments_lexer": "ipython3",
   "version": "3.7.4"
  }
 },
 "nbformat": 4,
 "nbformat_minor": 2
}
