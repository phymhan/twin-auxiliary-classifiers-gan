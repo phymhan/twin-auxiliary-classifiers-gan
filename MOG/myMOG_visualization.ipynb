{
 "cells": [
  {
   "cell_type": "markdown",
   "metadata": {},
   "source": [
    "# This is the demo of TAC-GAN on MOG (mixture of gaussian) "
   ]
  },
  {
   "cell_type": "markdown",
   "metadata": {},
   "source": [
    "Load the needed package"
   ]
  },
  {
   "cell_type": "markdown",
   "metadata": {},
   "source": [
    "# Import and libraries"
   ]
  },
  {
   "cell_type": "code",
   "execution_count": 25,
   "metadata": {},
   "outputs": [],
   "source": [
    "%matplotlib inline\n",
    "import os\n",
    "import torch\n",
    "import torch.nn as nn\n",
    "import numpy as np\n",
    "import torch.optim as optim\n",
    "import torch.nn.functional as F\n",
    "import matplotlib\n",
    "import matplotlib.pyplot as plt\n",
    "import pandas as pd\n",
    "from mmd_metric import polynomial_mmd\n",
    "from torch import autograd\n",
    "from torch.nn import utils\n",
    "from torch.nn import init\n",
    "import pdb"
   ]
  },
  {
   "cell_type": "markdown",
   "metadata": {},
   "source": [
    "# Classes for cGAN"
   ]
  },
  {
   "cell_type": "code",
   "execution_count": 26,
   "metadata": {},
   "outputs": [],
   "source": [
    "#######G network\n",
    "\n",
    "class G_guassian(nn.Module):\n",
    "\n",
    "    def __init__(self, nz,num_classes=2):\n",
    "        super(G_guassian, self).__init__()\n",
    "\n",
    "\n",
    "        self.embed = nn.Embedding(num_embeddings=num_classes, embedding_dim=nz)\n",
    "\n",
    "        self.decode = nn.Sequential(\n",
    "\n",
    "            nn.Linear(nz*2,10),\n",
    "            nn.Tanh(),\n",
    "            nn.Linear(10, 10),\n",
    "            nn.Tanh(),\n",
    "            nn.Linear(10, 10),\n",
    "            # nn.Tanh(),\n",
    "            nn.Linear(10, 1),\n",
    "        )\n",
    "\n",
    "\n",
    "        self.__initialize_weights()\n",
    "\n",
    "    def forward(self, z, label, output=None):\n",
    "\n",
    "        input = torch.cat([z,self.embed(label)],dim=1)\n",
    "        x = input.view(input.size(0), -1)\n",
    "        output = self.decode(x)\n",
    "\n",
    "        return output\n",
    "\n",
    "    def __initialize_weights(self):\n",
    "        for m in self.modules():\n",
    "            if isinstance(m, nn.Conv2d):\n",
    "                m.weight.data.normal_(0.0, 0.02)\n",
    "            elif isinstance(m, nn.BatchNorm2d):\n",
    "                m.weight.data.normal_(1.0, 0.02)\n",
    "                m.bias.data.fill_(0)\n",
    "                \n",
    "\n",
    "#####D network\n",
    "class D_guassian(nn.Module):\n",
    "\n",
    "    def __init__(self, num_classes=10, AC=True, MINE=False):\n",
    "        super(D_guassian, self).__init__()\n",
    "\n",
    "        self.AC = AC\n",
    "        self.MINE = MINE\n",
    "\n",
    "        self.encode = nn.Sequential(\n",
    "\n",
    "            nn.Linear(1, 10),\n",
    "            nn.Tanh(),\n",
    "            nn.Linear(10, 10),\n",
    "            nn.Tanh(),\n",
    "            nn.Linear(10, 10),\n",
    "            # nn.Tanh(),\n",
    "        )\n",
    "        self.gan_linear = nn.Linear(10, 1)\n",
    "        self.aux_linear = nn.Linear(10, num_classes)\n",
    "        self.mi_linear = nn.Linear(10, num_classes)\n",
    "        self.mine_linear = nn.Linear(10, 1)\n",
    "        self.ma_et = None\n",
    "\n",
    "        if not self.AC or self.MINE:\n",
    "            self.projection = nn.Embedding(num_embeddings=num_classes, embedding_dim=10)\n",
    "\n",
    "        self.sigmoid = nn.Sigmoid()\n",
    "        self.__initialize_weights()\n",
    "\n",
    "    def forward(self, input, y=None):\n",
    "\n",
    "        x = self.encode(input)\n",
    "        x = x.view(-1, 10)\n",
    "        \n",
    "        if y is None:\n",
    "            c = self.aux_linear(x)\n",
    "            mi = self.mi_linear(x)\n",
    "            s = self.gan_linear(x)\n",
    "            if not self.AC:\n",
    "                s += (self.projection(y)*x).sum(dim=1, keepdim=True)\n",
    "            s = self.sigmoid(s)\n",
    "            return s.squeeze(1), c.squeeze(1), mi.squeeze(1)\n",
    "        else:\n",
    "            s = self.mine_linear(x)\n",
    "            if self.AC and self.MINE:\n",
    "                s += (self.projection(y) * x).sum(dim=1, keepdim=True)\n",
    "            return s.squeeze(1)\n",
    "\n",
    "    def __initialize_weights(self):\n",
    "        for m in self.modules():\n",
    "            if isinstance(m, nn.Conv2d):\n",
    "                m.weight.data.normal_(0.0, 0.02)\n",
    "            elif isinstance(m, nn.Linear):\n",
    "                m.weight.data.normal_(0.0, 0.02)\n",
    "            elif isinstance(m, nn.BatchNorm2d):\n",
    "                m.weight.data.normal_(1.0, 0.02)\n",
    "                m.bias.data.fill_(0)"
   ]
  },
  {
   "cell_type": "markdown",
   "metadata": {},
   "source": [
    "# Helper functions to plot the results"
   ]
  },
  {
   "cell_type": "code",
   "execution_count": 27,
   "metadata": {},
   "outputs": [],
   "source": [
    "def plot_density(flights,binwidth=0.1):\n",
    "    ax = plt.subplot(1,1,1)\n",
    "\n",
    "    # Draw the plot\n",
    "    ax.hist(flights, bins=int(180 / binwidth),\n",
    "            color='blue', edgecolor='black')\n",
    "\n",
    "    # Title and labels\n",
    "    ax.set_title('Histogram with Binwidth = %d' % binwidth, size=30)\n",
    "    ax.set_xlabel('Delay (min)', size=22)\n",
    "    ax.set_ylabel('Flights', size=22)\n",
    "\n",
    "    plt.tight_layout()\n",
    "    plt.show()"
   ]
  },
  {
   "cell_type": "markdown",
   "metadata": {},
   "source": [
    "# Runner"
   ]
  },
  {
   "cell_type": "code",
   "execution_count": 32,
   "metadata": {},
   "outputs": [],
   "source": [
    "####TAC-GAN: set AC=True, MI=True, AC-GAN:set AC=True, MI=False, Projection-GAN: set AC=False, MI=False\n",
    "def train(data1, data2, data3, nz, G, D, optd, optg, AC=True, MI=True, MINE=False):\n",
    "    lambda_mi = 1.0\n",
    "    ada = True\n",
    "    bs = 384\n",
    "    for ep in range(20):\n",
    "        for i in range(int(data1.size(0)/128)):\n",
    "\n",
    "            #####D step\n",
    "            for _ in range(1):\n",
    "                data = torch.cat([data1[128 * i:128 * i + 128], data2[128 * i:128 * i + 128], data3[128 * i:128 * i + 128]], dim=0).unsqueeze(dim=1)\n",
    "                label = torch.cat([torch.ones(128).cuda().long()*0, torch.ones(128).cuda().long()*1, torch.ones(128).cuda().long()*2], dim=0)\n",
    "\n",
    "                ###D\n",
    "                if AC:\n",
    "                    d_real, c, _ = D(data)\n",
    "                    z = torch.randn(bs, nz).cuda()\n",
    "                    fake_label = torch.LongTensor(bs).random_(3).cuda()\n",
    "                    fake_data = G(z, label=fake_label)\n",
    "                    d_fake, c_fake, mi = D(fake_data.detach())\n",
    "                else:\n",
    "                    d_real, c, _ = D(data, label)\n",
    "                    z = torch.randn(bs, nz).cuda()\n",
    "                    fake_label = torch.LongTensor(bs).random_(3).cuda()\n",
    "                    fake_data = G(z, label=fake_label)\n",
    "                    d_fake, _, mi = D(fake_data.detach(), fake_label)\n",
    "\n",
    "                D_loss = F.binary_cross_entropy(d_real, torch.ones(384).cuda()) \\\n",
    "                         + F.binary_cross_entropy(d_fake, torch.zeros(bs).cuda())\n",
    "                if AC:\n",
    "                    D_loss += F.cross_entropy(c, label)\n",
    "                    #D_loss += F.cross_entropy(c_fake, label)\n",
    "                if MI:\n",
    "                    D_loss += F.cross_entropy(mi, fake_label)\n",
    "\n",
    "                optd.zero_grad()\n",
    "                D_loss.backward()\n",
    "                optd.step()\n",
    "                \n",
    "                ###T\n",
    "                if MINE:\n",
    "                    fake_label_bar = fake_label[torch.randperm(bs), ...]\n",
    "                    et = torch.mean(torch.exp(D(fake_data.detach(), fake_label_bar)))\n",
    "                    if D.ma_et is None:\n",
    "                        D.ma_et = et.detach().item()\n",
    "                    D.ma_et += 0.001 * (et.detach().item() - D.ma_et)\n",
    "                    mi = torch.mean(D(fake_data.detach(), fake_label)) - torch.log(et) * et.detach() / D.ma_et\n",
    "                    T_loss = -mi\n",
    "                    optd.zero_grad()\n",
    "                    T_loss.backward()\n",
    "                    optd.step()\n",
    "\n",
    "            #####G step\n",
    "            if i % 10 == 0:\n",
    "                z = torch.randn(bs, nz).cuda()\n",
    "                fake_label = torch.LongTensor(bs).random_(3).cuda()\n",
    "                fake_label_bar = fake_label[torch.randperm(bs), ...]\n",
    "                fake_data = G(z, label=fake_label)\n",
    "                if AC:\n",
    "                    d_fake, c, mi = D(fake_data)\n",
    "                else:\n",
    "                    d_fake, c, mi = D(fake_data, fake_label)\n",
    "\n",
    "                G_loss = F.binary_cross_entropy(d_fake, torch.ones(bs).cuda())\n",
    "\n",
    "                if AC:\n",
    "                    G_loss += F.cross_entropy(c,fake_label)\n",
    "                if MI:\n",
    "                    G_loss -= F.cross_entropy(mi, fake_label)\n",
    "                \n",
    "                optg.zero_grad()\n",
    "                #MINE\n",
    "                if MINE and ada:\n",
    "                    mi = torch.mean(D(fake_data, fake_label)) - torch.log(torch.mean(torch.exp(D(fake_data, fake_label_bar))))\n",
    "                    grad_u = autograd.grad(G_loss, G.parameters(), create_graph=True, retain_graph=True, only_inputs=True)\n",
    "                    grad_m = autograd.grad(lambda_mi * mi, G.parameters(), create_graph=True, retain_graph=True, only_inputs=True)\n",
    "                    grad_u_flattened = torch.cat([g.view(-1) for g in grad_u])\n",
    "                    grad_m_flattened = torch.cat([g.view(-1) for g in grad_m])\n",
    "                    grad_u_norm = grad_u_flattened.pow(2).sum().sqrt()\n",
    "                    grad_m_norm = grad_m_flattened.pow(2).sum().sqrt()\n",
    "                    grad_a_ratio = torch.min(grad_u_norm, grad_m_norm) / grad_m_norm * lambda_mi\n",
    "                    for p, g_u, g_m in zip(G.parameters(), grad_u, grad_m):\n",
    "                        p.grad = g_u + g_m * grad_a_ratio\n",
    "                else:\n",
    "                    G_loss.backward()\n",
    "                optg.step()\n",
    "        print(f'epoch {ep}')"
   ]
  },
  {
   "cell_type": "markdown",
   "metadata": {},
   "source": [
    "# Visualize and evaluation"
   ]
  },
  {
   "cell_type": "markdown",
   "metadata": {},
   "source": [
    "Running the 1-D MOG toy experiments of different distance between different gaussian components. Cost about 10 min in 1080ti"
   ]
  },
  {
   "cell_type": "code",
   "execution_count": 29,
   "metadata": {},
   "outputs": [
    {
     "name": "stderr",
     "output_type": "stream",
     "text": [
      "The PostScript backend does not support transparency; partially transparent artists will be rendered opaque.\n",
      "The PostScript backend does not support transparency; partially transparent artists will be rendered opaque.\n"
     ]
    },
    {
     "data": {
      "image/png": "[encoded data removed]",
      "text/plain": [
       "<Figure size 432x288 with 1 Axes>"
      ]
     },
     "metadata": {
      "needs_background": "light"
     },
     "output_type": "display_data"
    }
   ],
   "source": [
    "\n",
    "######create folder to save the result\n",
    "distance = 3\n",
    "if os.path.exists(os.path.join('MOG','1D', str(distance) + '_1D')):\n",
    "    pass\n",
    "else:\n",
    "    os.makedirs(os.path.join('MOG','1D', str(distance) + '_1D'))\n",
    "save_path = os.path.join('MOG','1D', str(distance) + '_1D')\n",
    "\n",
    "######Generate MOG data of different mean and variance\n",
    "data1 = torch.randn(128000).cuda()\n",
    "data2 = torch.randn(128000).cuda() * 2 + distance\n",
    "data3 = torch.randn(128000).cuda() * 3 + distance * 2\n",
    "\n",
    "df1 = pd.DataFrame()\n",
    "df2 = pd.DataFrame()\n",
    "\n",
    "df1['score_{0}'.format(0)] = data1.cpu().numpy()\n",
    "df1['score_{0}'.format(1)] = data2.cpu().numpy()\n",
    "df1['score_{0}'.format(2)] = data3.cpu().numpy()\n",
    "r_data = torch.cat([data1, data2, data3], dim=0).cpu().numpy()\n",
    "df2['score_{0}'.format(2)] = r_data\n",
    "np.save(save_path+'/o_data',r_data)\n",
    "\n",
    "######Plot the distribution of original data\n",
    "fig, ax = plt.subplots(1, 1)\n",
    "for s in df1.columns:\n",
    "    df1[s].plot(kind='kde')\n",
    "\n",
    "for s in df2.columns:\n",
    "    df2[s].plot(style='--',kind='kde')\n",
    "plt.xlim((-4, 9 + distance * 2))\n",
    "ax.legend([\"Class_0\", \"Class_1\",\"Class_2\",\"Marginal\"])\n",
    "plt.title('Original')\n",
    "fig.savefig(save_path + '/original.eps')"
   ]
  },
  {
   "cell_type": "markdown",
   "metadata": {},
   "source": [
    "# Build Network"
   ]
  },
  {
   "cell_type": "code",
   "execution_count": 30,
   "metadata": {},
   "outputs": [],
   "source": [
    "####TAC-GAN: set AC=True, MI=True, AC-GAN:set AC=True, MI=False, Projection-GAN: set AC=False, MI=False\n",
    "##Default TAC-GAN\n",
    "AC = True\n",
    "MI = True\n",
    "MINE = False\n",
    "if AC:\n",
    "    if MI:\n",
    "        name = 'TAC'\n",
    "    elif MINE:\n",
    "        name = 'MINE'\n",
    "    else:\n",
    "        name = 'AC'\n",
    "else:\n",
    "    name = 'Projection'\n",
    "\n",
    "#####Bulding network\n",
    "nz = 2\n",
    "G = G_guassian(nz=nz, num_classes=3).cuda()\n",
    "\n",
    "D = D_guassian(num_classes=3, AC=AC, MINE=MINE).cuda()\n",
    "\n",
    "optg = optim.Adam(G.parameters(), lr=0.002, betas=(0.5, 0.999))\n",
    "optd = optim.Adam(D.parameters(), lr=0.002, betas=(0.5, 0.999))"
   ]
  },
  {
   "cell_type": "code",
   "execution_count": 33,
   "metadata": {},
   "outputs": [
    {
     "name": "stdout",
     "output_type": "stream",
     "text": [
      "epoch 0\n",
      "epoch 1\n",
      "epoch 2\n",
      "epoch 3\n",
      "epoch 4\n",
      "epoch 5\n",
      "epoch 6\n",
      "epoch 7\n",
      "epoch 8\n",
      "epoch 9\n",
      "epoch 10\n",
      "epoch 11\n",
      "epoch 12\n",
      "epoch 13\n",
      "epoch 14\n",
      "epoch 15\n",
      "epoch 16\n",
      "epoch 17\n",
      "epoch 18\n",
      "epoch 19\n",
      "Training finished\n"
     ]
    },
    {
     "name": "stderr",
     "output_type": "stream",
     "text": [
      "The PostScript backend does not support transparency; partially transparent artists will be rendered opaque.\n",
      "The PostScript backend does not support transparency; partially transparent artists will be rendered opaque.\n"
     ]
    },
    {
     "data": {
      "image/png": "[encoded data removed]",
      "text/plain": [
       "<Figure size 432x288 with 1 Axes>"
      ]
     },
     "metadata": {
      "needs_background": "light"
     },
     "output_type": "display_data"
    }
   ],
   "source": [
    "#####Train network\n",
    "train(data1, data2, data3, nz, G, D, optd, optg, AC=AC, MI=MI, MINE=MINE)\n",
    "print('Training finished')\n",
    "\n",
    "#####Sample data from Generator\n",
    "z = torch.randn(10000, nz).cuda()\n",
    "label = torch.zeros(10000).long().cuda()  # torch.LongTensor(10000).random_(2).cuda()#\n",
    "data1_g = G(z=z, label=label).squeeze().cpu().detach()\n",
    "\n",
    "z = torch.randn(10000, nz).cuda()\n",
    "label = torch.ones(10000).long().cuda()  # torch.LongTensor(10000).random_(2).cuda()#\n",
    "data2_g = G(z=z, label=label).squeeze().cpu().detach()\n",
    "\n",
    "z = torch.randn(10000, nz).cuda()\n",
    "label = torch.ones(10000).long().cuda() + 1  # torch.LongTensor(10000).random_(2).cuda()#\n",
    "data3_g = G(z=z, label=label).squeeze().cpu().detach()\n",
    "\n",
    "df1 = pd.DataFrame()\n",
    "df2 = pd.DataFrame()\n",
    "\n",
    "df1['score_{0}'.format(0)] = data1_g.numpy()\n",
    "df1['score_{0}'.format(1)] = data2_g.numpy()\n",
    "df1['score_{0}'.format(2)] = data3_g.numpy()\n",
    "g_data = torch.cat([data1_g, data2_g, data3_g], dim=0).numpy()\n",
    "df2['score_{0}'.format(2)] = g_data\n",
    "\n",
    "#####Plot generated conditional distribution\n",
    "fig, ax = plt.subplots(1, 1)\n",
    "for s in df1.columns:\n",
    "    df1[s].plot(kind='kde')\n",
    "\n",
    "for s in df2.columns:\n",
    "    df2[s].plot(style='--',kind='kde')\n",
    "\n",
    "plt.xlim((-4, 9 + distance * 2))\n",
    "ax.legend([\"Class_0\", \"Class_1\", \"Class_2\", \"Marginal\"])\n",
    "plt.title(name)\n",
    "fig.savefig(save_path + '/'+name+'.eps')"
   ]
  },
  {
   "cell_type": "markdown",
   "metadata": {},
   "source": [
    "# Evaluate the MMD distance between true data and generated data"
   ]
  },
  {
   "cell_type": "code",
   "execution_count": 22,
   "metadata": {},
   "outputs": [
    {
     "name": "stdout",
     "output_type": "stream",
     "text": [
      "the distance of class 0 is :  0.09802746661866202\n",
      "the distance of class 1 is :  0.20646653414138427\n",
      "the distance of class 2 is :  0.07846689052894362\n",
      "the distance of marginal is :  -0.034697834967573726\n"
     ]
    }
   ],
   "source": [
    "\n",
    "mean0_0,var0_0 = polynomial_mmd(np.expand_dims(data1_g.numpy(), axis=1), np.expand_dims(data1.cpu().numpy(),axis=1))\n",
    "mean0_1, var0_1 = polynomial_mmd(np.expand_dims(data2_g.numpy(), axis=1), np.expand_dims(data2.cpu().numpy(), axis=1))\n",
    "mean0_2, var0_2 = polynomial_mmd(np.expand_dims(data3_g.numpy(), axis=1), np.expand_dims(data3.cpu().numpy(), axis=1))\n",
    "mean0, var0 = polynomial_mmd(np.expand_dims(g_data, axis=1), np.expand_dims(r_data, axis=1))\n",
    "print('the distance of class 0 is : ', mean0_0)\n",
    "print('the distance of class 1 is : ', mean0_1)\n",
    "print('the distance of class 2 is : ', mean0_2)\n",
    "print('the distance of marginal is : ', mean0)"
   ]
  },
  {
   "cell_type": "code",
   "execution_count": null,
   "metadata": {},
   "outputs": [],
   "source": []
  }
 ],
 "metadata": {
  "kernelspec": {
   "display_name": "Python 3",
   "language": "python",
   "name": "python3"
  },
  "language_info": {
   "codemirror_mode": {
    "name": "ipython",
    "version": 3
   },
   "file_extension": ".py",
   "mimetype": "text/x-python",
   "name": "python",
   "nbconvert_exporter": "python",
   "pygments_lexer": "ipython3",
   "version": "3.7.4"
  }
 },
 "nbformat": 4,
 "nbformat_minor": 2
}
